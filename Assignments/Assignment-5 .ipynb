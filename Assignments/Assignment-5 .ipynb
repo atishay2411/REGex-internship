{
 "cells": [
  {
   "cell_type": "markdown",
   "metadata": {},
   "source": [
    "# REGex- Datascience- Assignment-5\n",
    "Task 5\n",
    "\n",
    "Name- Atishay Jain\n",
    "\n",
    "Referral id - SIRSS1179"
   ]
  },
  {
   "cell_type": "markdown",
   "metadata": {},
   "source": [
    "### Q1. Given a list of integers, write a function to return the sum of all prime numbers in that list."
   ]
  },
  {
   "cell_type": "code",
   "execution_count": 3,
   "metadata": {},
   "outputs": [
    {
     "name": "stdout",
     "output_type": "stream",
     "text": [
      "Enter the number of values7\n",
      "Enter the values1\n",
      "Enter the values13\n",
      "Enter the values4\n",
      "Enter the values5\n",
      "Enter the values8\n",
      "Enter the values6\n",
      "Enter the values13\n",
      "[1, 13, 4, 5, 8, 6, 13]\n",
      "13 5 13 "
     ]
    },
    {
     "data": {
      "text/plain": [
       "31"
      ]
     },
     "execution_count": 3,
     "metadata": {},
     "output_type": "execute_result"
    }
   ],
   "source": [
    "def isPrime(n):\n",
    "    if (n <= 1):\n",
    "        return False\n",
    "    for i in range(2, n):\n",
    "        if (n % i == 0):\n",
    "            return False\n",
    "    return True\n",
    "def primeSum(num) :\n",
    "    add = 0\n",
    "    for i in num:\n",
    "        if isPrime(i) :\n",
    "            print(i, end = \" \")\n",
    "            add += i\n",
    "    return add\n",
    "\n",
    "values=int(input(\"Enter the number of values\"))\n",
    "ls=[]\n",
    "for i in range(values):\n",
    "    val=int(input(\"Enter the values\"))\n",
    "    ls.append(val)\n",
    "print(ls)\n",
    "primeSum(ls)"
   ]
  },
  {
   "cell_type": "markdown",
   "metadata": {},
   "source": [
    "### Q2. Given a list of integers, write a function to check whether the list is strictly increasing or not."
   ]
  },
  {
   "cell_type": "code",
   "execution_count": 13,
   "metadata": {},
   "outputs": [
    {
     "name": "stdout",
     "output_type": "stream",
     "text": [
      "Enter the number of elements5\n",
      "Enter the elements1\n",
      "Enter the elements2\n",
      "Enter the elements3\n",
      "Enter the elements4\n",
      "Enter the elements5\n"
     ]
    },
    {
     "data": {
      "text/plain": [
       "True"
      ]
     },
     "execution_count": 13,
     "metadata": {},
     "output_type": "execute_result"
    }
   ],
   "source": [
    "def inc_or_not(n):\n",
    "    for i in range(1,len(n)):\n",
    "        if n[i]<n[i+1]:\n",
    "            return True\n",
    "        elif(n[i]>n[i+1]):\n",
    "            return False\n",
    "ls=[]\n",
    "num=int(input(\"Enter the number of elements\"))\n",
    "for i in range(num):\n",
    "    nums=int(input(\"Enter the elements\"))\n",
    "    ls.append(nums)\n",
    "inc_or_not(ls)"
   ]
  },
  {
   "cell_type": "markdown",
   "metadata": {},
   "source": [
    "### Q3. Write a function to check whether a given list is expanding or not (the difference between adjacent elements should keep on increasing)."
   ]
  },
  {
   "cell_type": "code",
   "execution_count": 3,
   "metadata": {},
   "outputs": [
    {
     "name": "stdout",
     "output_type": "stream",
     "text": [
      "Enter the number of elements4\n",
      "Enter the elements1\n",
      "Enter the elements3\n",
      "Enter the elements6\n",
      "Enter the elements10\n"
     ]
    },
    {
     "data": {
      "text/plain": [
       "True"
      ]
     },
     "execution_count": 3,
     "metadata": {},
     "output_type": "execute_result"
    }
   ],
   "source": [
    "def expands_or_not(lst):\n",
    "    n1 = abs(lst[1] - lst[0])\n",
    "    n2 = abs(lst[2] - lst[1])\n",
    "    if n1 >= n2 :\n",
    "        return False\n",
    "    else :\n",
    "        for i in range(3, len(lst)) :\n",
    "            n3 = abs(lst[i] - lst[i-1])\n",
    "            if n3 <= n2 :\n",
    "                return False\n",
    "            n2 = n3\n",
    "        else : \n",
    "            return True\n",
    "ls=[]\n",
    "num=int(input(\"Enter the number of elements\"))\n",
    "for i in range(num):\n",
    "    nums=int(input(\"Enter the elements\"))\n",
    "    ls.append(nums)\n",
    "expands_or_not(ls)"
   ]
  },
  {
   "cell_type": "markdown",
   "metadata": {},
   "source": [
    "### Q4. Write a function to calculate all permutations of a given string. (Without using itertools)"
   ]
  },
  {
   "cell_type": "code",
   "execution_count": 5,
   "metadata": {},
   "outputs": [
    {
     "name": "stdout",
     "output_type": "stream",
     "text": [
      "Enter the String : abc\n"
     ]
    },
    {
     "data": {
      "text/plain": [
       "['abc', 'bac', 'bca', 'acb', 'cab', 'cba']"
      ]
     },
     "execution_count": 5,
     "metadata": {},
     "output_type": "execute_result"
    }
   ],
   "source": [
    "def permutation(str) :\n",
    "    if len(str) == 1 :\n",
    "        return [str]\n",
    "    prmts = permutation(str[1:])\n",
    "    fst = str[0]\n",
    "    rslt = []\n",
    "    for i in prmts :\n",
    "        for j in range(len(i)+1) :\n",
    "            rslt.append(i[:j] + fst + i[j:])\n",
    "    return rslt\n",
    "\n",
    "\n",
    "inp = str(input(\"Enter the String : \"))\n",
    "permutation(inp)"
   ]
  },
  {
   "cell_type": "code",
   "execution_count": null,
   "metadata": {},
   "outputs": [],
   "source": []
  }
 ],
 "metadata": {
  "kernelspec": {
   "display_name": "Python 3",
   "language": "python",
   "name": "python3"
  },
  "language_info": {
   "codemirror_mode": {
    "name": "ipython",
    "version": 3
   },
   "file_extension": ".py",
   "mimetype": "text/x-python",
   "name": "python",
   "nbconvert_exporter": "python",
   "pygments_lexer": "ipython3",
   "version": "3.8.5"
  }
 },
 "nbformat": 4,
 "nbformat_minor": 4
}
