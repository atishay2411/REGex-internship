{
 "cells": [
  {
   "cell_type": "markdown",
   "metadata": {},
   "source": [
    "# REGex- Datascience- Assignment-3\n",
    "Task 3\n",
    "\n",
    "Name- Atishay Jain\n",
    "\n",
    "Referral id - SIRSS1179"
   ]
  },
  {
   "cell_type": "markdown",
   "metadata": {},
   "source": [
    "# Q1. Write a function to return nth term of Fibonacci sequence."
   ]
  },
  {
   "cell_type": "code",
   "execution_count": 5,
   "metadata": {},
   "outputs": [
    {
     "name": "stdout",
     "output_type": "stream",
     "text": [
      "Enter a Number : 20\n",
      "0 1 1 2 3 5 8 13 21 34 55 89 144 233 377 610 987 1597 2584 4181 "
     ]
    }
   ],
   "source": [
    "def fibonacci(inp) :\n",
    "    if inp <= 1 :\n",
    "        return inp\n",
    "    else : \n",
    "        return (fibonacci(inp-1) + fibonacci(inp-2))\n",
    "n = int(input(\"Enter a Number : \"))\n",
    "if n < 0 :\n",
    "    print(\"Please Enter Positive Number \")\n",
    "else :\n",
    "    for i in range(n) :\n",
    "        print(fibonacci(i), end = \" \")"
   ]
  },
  {
   "cell_type": "markdown",
   "metadata": {},
   "source": [
    "# Q2. Write a function to find out GCD of two numbers using EUCLID'S algorithm."
   ]
  },
  {
   "cell_type": "code",
   "execution_count": 3,
   "metadata": {},
   "outputs": [
    {
     "name": "stdout",
     "output_type": "stream",
     "text": [
      "Enter First Number:2\n",
      " Enter Second Number:4\n",
      "GCD of 2 and 4 is 4\n"
     ]
    }
   ],
   "source": [
    "def GCD(n, n1):\n",
    "    if n1 == 0:\n",
    "        return n\n",
    "    else :\n",
    "        return GCD(n1, n // n1)\n",
    "inp = int(input('Enter First Number:'))\n",
    "inp1 = int(input(\" Enter Second Number:\"))\n",
    "print(\"GCD of\", inp, \"and\", inp1, \"is\", GCD(inp, inp1))"
   ]
  },
  {
   "cell_type": "markdown",
   "metadata": {},
   "source": [
    "# Q3. Write a function to find LCM of two number in most optimizers way."
   ]
  },
  {
   "cell_type": "code",
   "execution_count": 4,
   "metadata": {},
   "outputs": [
    {
     "name": "stdout",
     "output_type": "stream",
     "text": [
      "Enter 1st Number : 4\n",
      "Enter 2nd Number : 7\n",
      "LCM of (4,7) =  28.0\n"
     ]
    }
   ],
   "source": [
    "def gcd(n1, n2) :\n",
    "    if n2 == 0 :\n",
    "        return n1\n",
    "    else :\n",
    "        return gcd(n2, n1 % n2)\n",
    "    \n",
    "def lcm(n1, n2) :\n",
    "    return (n1 / gcd(n1,n2)) * n2\n",
    "\n",
    "n1 = int(input(\"Enter 1st Number : \"))\n",
    "n2 = int(input(\"Enter 2nd Number : \"))\n",
    "\n",
    "print(f\"LCM of ({n1},{n2}) = \", lcm(n1,n2))"
   ]
  },
  {
   "cell_type": "code",
   "execution_count": null,
   "metadata": {},
   "outputs": [],
   "source": []
  }
 ],
 "metadata": {
  "kernelspec": {
   "display_name": "Python 3",
   "language": "python",
   "name": "python3"
  },
  "language_info": {
   "codemirror_mode": {
    "name": "ipython",
    "version": 3
   },
   "file_extension": ".py",
   "mimetype": "text/x-python",
   "name": "python",
   "nbconvert_exporter": "python",
   "pygments_lexer": "ipython3",
   "version": "3.8.5"
  }
 },
 "nbformat": 4,
 "nbformat_minor": 4
}
